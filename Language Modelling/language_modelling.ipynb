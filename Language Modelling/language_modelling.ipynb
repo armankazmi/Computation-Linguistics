{
 "cells": [
  {
   "cell_type": "markdown",
   "metadata": {},
   "source": [
    "<html>\n",
    "    <body>\n",
    "        <h2> Language Modelling on a small corpus</h2>\n",
    "    </body>\n",
    "</html>"
   ]
  },
  {
   "cell_type": "code",
   "execution_count": 1,
   "metadata": {},
   "outputs": [],
   "source": [
    "mother_goose = open(\"data\\mother-goose-corpus.txt\",\"r\")"
   ]
  },
  {
   "cell_type": "code",
   "execution_count": 2,
   "metadata": {},
   "outputs": [],
   "source": [
    "text = mother_goose.read()"
   ]
  },
  {
   "cell_type": "code",
   "execution_count": 3,
   "metadata": {},
   "outputs": [],
   "source": [
    "vocabulary = list(set(text.split()))"
   ]
  },
  {
   "cell_type": "markdown",
   "metadata": {},
   "source": [
    "<html>\n",
    "    <body>\n",
    "        <h2> Qustion 1</h2>\n",
    "        <p style= \"font-size:18px\"> \"Calculating Vocabulary\" </p>\n",
    "    </body>\n",
    "</html>"
   ]
  },
  {
   "cell_type": "code",
   "execution_count": 4,
   "metadata": {},
   "outputs": [
    {
     "data": {
      "text/plain": [
       "['</s>',\n",
       " 'if',\n",
       " 'of',\n",
       " '<s>',\n",
       " 'where',\n",
       " 'picked',\n",
       " 'peck',\n",
       " 'piper',\n",
       " 'peppers',\n",
       " 'pickled',\n",
       " 'peter',\n",
       " 'the',\n",
       " 's',\n",
       " 'a']"
      ]
     },
     "execution_count": 4,
     "metadata": {},
     "output_type": "execute_result"
    }
   ],
   "source": [
    "vocabulary"
   ]
  },
  {
   "cell_type": "markdown",
   "metadata": {},
   "source": [
    "<html>\n",
    "    <body>\n",
    "        <h2> Qustion 2</h2>\n",
    "        <p style= \"font-size:18px\"> \"Probability of each unigram and 2 with highest Prob\" </p>\n",
    "    </body>\n",
    "</html>"
   ]
  },
  {
   "cell_type": "code",
   "execution_count": 5,
   "metadata": {},
   "outputs": [],
   "source": [
    "d = {}               #dictionary to store the unigram counts\n",
    "for i in text.split():\n",
    "    if i in d:\n",
    "        d[i] = d[i]+1\n",
    "    else:\n",
    "        d[i] = 1"
   ]
  },
  {
   "cell_type": "code",
   "execution_count": 6,
   "metadata": {},
   "outputs": [],
   "source": [
    "unigram_prob = dict()                #dictionary to compute the probability of unigrams using the counts calculated from above dict\n",
    "for i,j in d.items():\n",
    "    unigram_prob[i] = j/len(text.split())"
   ]
  },
  {
   "cell_type": "code",
   "execution_count": 66,
   "metadata": {},
   "outputs": [
    {
     "data": {
      "text/plain": [
       "{'<s>': 0.09302325581395349,\n",
       " 'peter': 0.09302325581395349,\n",
       " 'piper': 0.09302325581395349,\n",
       " 'picked': 0.09302325581395349,\n",
       " 'a': 0.06976744186046512,\n",
       " 'peck': 0.09302325581395349,\n",
       " 'of': 0.09302325581395349,\n",
       " 'pickled': 0.09302325581395349,\n",
       " 'peppers': 0.09302325581395349,\n",
       " '</s>': 0.09302325581395349,\n",
       " 'if': 0.023255813953488372,\n",
       " 'where': 0.023255813953488372,\n",
       " 's': 0.023255813953488372,\n",
       " 'the': 0.023255813953488372}"
      ]
     },
     "execution_count": 66,
     "metadata": {},
     "output_type": "execute_result"
    }
   ],
   "source": [
    "unigram_prob                   #top probability unigram"
   ]
  },
  {
   "cell_type": "markdown",
   "metadata": {},
   "source": [
    "<html>\n",
    "    <body>\n",
    "        <h2> Qustion 3</h2>\n",
    "        <p style= \"font-size:18px\"> \"Probability matrix containing the maximum likelihood estimates (MLEs) of all possible\n",
    "bigrams\" </p>\n",
    "    </body>\n",
    "</html>"
   ]
  },
  {
   "cell_type": "code",
   "execution_count": 8,
   "metadata": {},
   "outputs": [],
   "source": [
    "import numpy as np"
   ]
  },
  {
   "cell_type": "code",
   "execution_count": null,
   "metadata": {},
   "outputs": [],
   "source": []
  },
  {
   "cell_type": "code",
   "execution_count": 9,
   "metadata": {},
   "outputs": [],
   "source": [
    "temp = {}\n",
    "for i in range(len(vocabulary)):\n",
    "    temp[i] = vocabulary[i]"
   ]
  },
  {
   "cell_type": "code",
   "execution_count": 10,
   "metadata": {},
   "outputs": [
    {
     "data": {
      "text/plain": [
       "{0: '</s>',\n",
       " 1: 'if',\n",
       " 2: 'of',\n",
       " 3: '<s>',\n",
       " 4: 'where',\n",
       " 5: 'picked',\n",
       " 6: 'peck',\n",
       " 7: 'piper',\n",
       " 8: 'peppers',\n",
       " 9: 'pickled',\n",
       " 10: 'peter',\n",
       " 11: 'the',\n",
       " 12: 's',\n",
       " 13: 'a'}"
      ]
     },
     "execution_count": 10,
     "metadata": {},
     "output_type": "execute_result"
    }
   ],
   "source": [
    "vocab = vocabulary\n",
    "temp                       #indexing the vocabulary"
   ]
  },
  {
   "cell_type": "code",
   "execution_count": 68,
   "metadata": {},
   "outputs": [],
   "source": [
    "bigrams = list(zip(text.split(), text.split()[1:]))        #creating all possible bigrams using the \n"
   ]
  },
  {
   "cell_type": "code",
   "execution_count": 12,
   "metadata": {},
   "outputs": [],
   "source": [
    "matrix = np.zeros((len(vocabulary),len(vocabulary)))    #matrix of shape length of vocabulary (14,14)\n",
    "for i in range(len(vocab)):\n",
    "    for j in range(len(vocab)):\n",
    "        bi = tuple([vocab[i],vocab[j]]) \n",
    "        count = bigrams.count(bi)                  #counting the freq of bigram in corpus\n",
    "        mle = count/text.count(vocab[j])\n",
    "        if count == 0:\n",
    "            continue\n",
    "        else:\n",
    "            matrix[i][j] = mle"
   ]
  },
  {
   "cell_type": "code",
   "execution_count": 13,
   "metadata": {},
   "outputs": [
    {
     "data": {
      "text/plain": [
       "array([[0.        , 0.        , 0.        , 0.75      , 0.        ,\n",
       "        0.        , 0.        , 0.        , 0.        , 0.        ,\n",
       "        0.        , 0.        , 0.        , 0.        ],\n",
       "       [0.        , 0.        , 0.        , 0.        , 0.        ,\n",
       "        0.        , 0.        , 0.        , 0.        , 0.        ,\n",
       "        0.25      , 0.        , 0.        , 0.        ],\n",
       "       [0.        , 0.        , 0.        , 0.        , 0.        ,\n",
       "        0.        , 0.        , 0.        , 0.        , 1.        ,\n",
       "        0.        , 0.        , 0.        , 0.        ],\n",
       "       [0.        , 1.        , 0.        , 0.        , 1.        ,\n",
       "        0.        , 0.        , 0.        , 0.        , 0.        ,\n",
       "        0.25      , 0.        , 0.        , 0.33333333],\n",
       "       [0.        , 0.        , 0.        , 0.        , 0.        ,\n",
       "        0.        , 0.        , 0.        , 0.        , 0.        ,\n",
       "        0.        , 0.        , 0.07692308, 0.        ],\n",
       "       [0.5       , 0.        , 0.        , 0.        , 0.        ,\n",
       "        0.        , 0.        , 0.        , 0.        , 0.        ,\n",
       "        0.        , 0.        , 0.        , 0.66666667],\n",
       "       [0.        , 0.        , 1.        , 0.        , 0.        ,\n",
       "        0.        , 0.        , 0.        , 0.        , 0.        ,\n",
       "        0.        , 0.        , 0.        , 0.        ],\n",
       "       [0.        , 0.        , 0.        , 0.        , 0.        ,\n",
       "        1.        , 0.        , 0.        , 0.        , 0.        ,\n",
       "        0.        , 0.        , 0.        , 0.        ],\n",
       "       [0.5       , 0.        , 0.        , 0.        , 0.        ,\n",
       "        0.        , 0.        , 0.        , 0.        , 0.        ,\n",
       "        0.5       , 0.        , 0.        , 0.        ],\n",
       "       [0.        , 0.        , 0.        , 0.        , 0.        ,\n",
       "        0.        , 0.        , 0.        , 1.        , 0.        ,\n",
       "        0.        , 0.        , 0.        , 0.        ],\n",
       "       [0.        , 0.        , 0.        , 0.        , 0.        ,\n",
       "        0.        , 0.        , 1.        , 0.        , 0.        ,\n",
       "        0.        , 0.        , 0.        , 0.        ],\n",
       "       [0.        , 0.        , 0.        , 0.        , 0.        ,\n",
       "        0.        , 0.25      , 0.        , 0.        , 0.        ,\n",
       "        0.        , 0.        , 0.        , 0.        ],\n",
       "       [0.        , 0.        , 0.        , 0.        , 0.        ,\n",
       "        0.        , 0.        , 0.        , 0.        , 0.        ,\n",
       "        0.        , 1.        , 0.        , 0.        ],\n",
       "       [0.        , 0.        , 0.        , 0.        , 0.        ,\n",
       "        0.        , 0.75      , 0.        , 0.        , 0.        ,\n",
       "        0.        , 0.        , 0.        , 0.        ]])"
      ]
     },
     "execution_count": 13,
     "metadata": {},
     "output_type": "execute_result"
    }
   ],
   "source": [
    "matrix"
   ]
  },
  {
   "cell_type": "code",
   "execution_count": 14,
   "metadata": {},
   "outputs": [],
   "source": [
    "bigram_prob = {}\n",
    "for i in range(len(matrix)):\n",
    "    for j in range(len(matrix)):\n",
    "        if matrix[i][j] == 0:\n",
    "            continue\n",
    "        else:\n",
    "            bigram = temp[i]+', '+temp[j]\n",
    "            bigram_prob[bigram] = matrix[i][j]"
   ]
  },
  {
   "cell_type": "code",
   "execution_count": null,
   "metadata": {},
   "outputs": [],
   "source": []
  },
  {
   "cell_type": "markdown",
   "metadata": {},
   "source": [
    "<html>\n",
    "    <body>\n",
    "        <h3> Biagrams probability</h3>\n",
    "    </body>\n",
    "</html>"
   ]
  },
  {
   "cell_type": "code",
   "execution_count": 15,
   "metadata": {},
   "outputs": [
    {
     "data": {
      "text/plain": [
       "{'</s>, <s>': 0.75,\n",
       " 'if, peter': 0.25,\n",
       " 'of, pickled': 1.0,\n",
       " '<s>, if': 1.0,\n",
       " '<s>, where': 1.0,\n",
       " '<s>, peter': 0.25,\n",
       " '<s>, a': 0.3333333333333333,\n",
       " 'where, s': 0.07692307692307693,\n",
       " 'picked, </s>': 0.5,\n",
       " 'picked, a': 0.6666666666666666,\n",
       " 'peck, of': 1.0,\n",
       " 'piper, picked': 1.0,\n",
       " 'peppers, </s>': 0.5,\n",
       " 'peppers, peter': 0.5,\n",
       " 'pickled, peppers': 1.0,\n",
       " 'peter, piper': 1.0,\n",
       " 'the, peck': 0.25,\n",
       " 's, the': 1.0,\n",
       " 'a, peck': 0.75}"
      ]
     },
     "execution_count": 15,
     "metadata": {},
     "output_type": "execute_result"
    }
   ],
   "source": [
    "bigram_prob"
   ]
  },
  {
   "cell_type": "markdown",
   "metadata": {},
   "source": [
    "<html>\n",
    "    <body>\n",
    "        <h2> Qustion 4</h2>\n",
    "        <p style= \"font-size:18px\"> \"Most frequent\n",
    "bigrams\" </p>\n",
    "    </body>\n",
    "</html>"
   ]
  },
  {
   "cell_type": "code",
   "execution_count": 16,
   "metadata": {},
   "outputs": [
    {
     "data": {
      "text/plain": [
       "{'of, pickled': 1.0,\n",
       " '<s>, if': 1.0,\n",
       " '<s>, where': 1.0,\n",
       " 'peck, of': 1.0,\n",
       " 'piper, picked': 1.0,\n",
       " 'pickled, peppers': 1.0,\n",
       " 'peter, piper': 1.0,\n",
       " 's, the': 1.0,\n",
       " '</s>, <s>': 0.75,\n",
       " 'a, peck': 0.75,\n",
       " 'picked, a': 0.6666666666666666,\n",
       " 'picked, </s>': 0.5,\n",
       " 'peppers, </s>': 0.5,\n",
       " 'peppers, peter': 0.5,\n",
       " '<s>, a': 0.3333333333333333,\n",
       " 'if, peter': 0.25,\n",
       " '<s>, peter': 0.25,\n",
       " 'the, peck': 0.25,\n",
       " 'where, s': 0.07692307692307693}"
      ]
     },
     "execution_count": 16,
     "metadata": {},
     "output_type": "execute_result"
    }
   ],
   "source": [
    "{k: v for k, v in sorted(bigram_prob.items(), key=lambda item: item[1], reverse=True)}"
   ]
  },
  {
   "cell_type": "markdown",
   "metadata": {},
   "source": [
    "<html>\n",
    "    <body>\n",
    "        <h2> Qustion 5</h2>\n",
    "        <p style= \"font-size:18px\"> \"Probability matrix containing the Laplace smooth estimates of all possible\n",
    "bigrams\" </p>\n",
    "    </body>\n",
    "</html>"
   ]
  },
  {
   "cell_type": "code",
   "execution_count": 17,
   "metadata": {},
   "outputs": [],
   "source": [
    "laplace_matrix = np.zeros((len(vocab),len(vocab)))\n",
    "for i in range(len(vocab)):\n",
    "    for j in range(len(vocab)):\n",
    "        bi = tuple([vocab[i],vocab[j]])\n",
    "        count = bigrams.count(bi)+1             #adding 1 to the count whose freq is zero\n",
    "        mle = count/(text.count(vocab[j])+len(vocab))\n",
    "        laplace_matrix[i][j] = mle"
   ]
  },
  {
   "cell_type": "code",
   "execution_count": 18,
   "metadata": {},
   "outputs": [],
   "source": [
    "lap_bigram_prob = {}\n",
    "for i in range(len(laplace_matrix)):\n",
    "    for j in range(len(laplace_matrix)):\n",
    "        bigram = temp[i]+', '+temp[j]\n",
    "        lap_bigram_prob[bigram] = laplace_matrix[i][j]"
   ]
  },
  {
   "cell_type": "code",
   "execution_count": 19,
   "metadata": {},
   "outputs": [
    {
     "data": {
      "text/plain": [
       "{'</s>, </s>': 0.05555555555555555,\n",
       " '</s>, if': 0.06666666666666667,\n",
       " '</s>, of': 0.05555555555555555,\n",
       " '</s>, <s>': 0.2222222222222222,\n",
       " '</s>, where': 0.06666666666666667,\n",
       " '</s>, picked': 0.05555555555555555,\n",
       " '</s>, peck': 0.05555555555555555,\n",
       " '</s>, piper': 0.05555555555555555,\n",
       " '</s>, peppers': 0.05555555555555555,\n",
       " '</s>, pickled': 0.05555555555555555,\n",
       " '</s>, peter': 0.05555555555555555,\n",
       " '</s>, the': 0.06666666666666667,\n",
       " '</s>, s': 0.037037037037037035,\n",
       " '</s>, a': 0.058823529411764705,\n",
       " 'if, </s>': 0.05555555555555555,\n",
       " 'if, if': 0.06666666666666667,\n",
       " 'if, of': 0.05555555555555555,\n",
       " 'if, <s>': 0.05555555555555555,\n",
       " 'if, where': 0.06666666666666667,\n",
       " 'if, picked': 0.05555555555555555,\n",
       " 'if, peck': 0.05555555555555555,\n",
       " 'if, piper': 0.05555555555555555,\n",
       " 'if, peppers': 0.05555555555555555,\n",
       " 'if, pickled': 0.05555555555555555,\n",
       " 'if, peter': 0.1111111111111111,\n",
       " 'if, the': 0.06666666666666667,\n",
       " 'if, s': 0.037037037037037035,\n",
       " 'if, a': 0.058823529411764705,\n",
       " 'of, </s>': 0.05555555555555555,\n",
       " 'of, if': 0.06666666666666667,\n",
       " 'of, of': 0.05555555555555555,\n",
       " 'of, <s>': 0.05555555555555555,\n",
       " 'of, where': 0.06666666666666667,\n",
       " 'of, picked': 0.05555555555555555,\n",
       " 'of, peck': 0.05555555555555555,\n",
       " 'of, piper': 0.05555555555555555,\n",
       " 'of, peppers': 0.05555555555555555,\n",
       " 'of, pickled': 0.2777777777777778,\n",
       " 'of, peter': 0.05555555555555555,\n",
       " 'of, the': 0.06666666666666667,\n",
       " 'of, s': 0.037037037037037035,\n",
       " 'of, a': 0.058823529411764705,\n",
       " '<s>, </s>': 0.05555555555555555,\n",
       " '<s>, if': 0.13333333333333333,\n",
       " '<s>, of': 0.05555555555555555,\n",
       " '<s>, <s>': 0.05555555555555555,\n",
       " '<s>, where': 0.13333333333333333,\n",
       " '<s>, picked': 0.05555555555555555,\n",
       " '<s>, peck': 0.05555555555555555,\n",
       " '<s>, piper': 0.05555555555555555,\n",
       " '<s>, peppers': 0.05555555555555555,\n",
       " '<s>, pickled': 0.05555555555555555,\n",
       " '<s>, peter': 0.1111111111111111,\n",
       " '<s>, the': 0.06666666666666667,\n",
       " '<s>, s': 0.037037037037037035,\n",
       " '<s>, a': 0.11764705882352941,\n",
       " 'where, </s>': 0.05555555555555555,\n",
       " 'where, if': 0.06666666666666667,\n",
       " 'where, of': 0.05555555555555555,\n",
       " 'where, <s>': 0.05555555555555555,\n",
       " 'where, where': 0.06666666666666667,\n",
       " 'where, picked': 0.05555555555555555,\n",
       " 'where, peck': 0.05555555555555555,\n",
       " 'where, piper': 0.05555555555555555,\n",
       " 'where, peppers': 0.05555555555555555,\n",
       " 'where, pickled': 0.05555555555555555,\n",
       " 'where, peter': 0.05555555555555555,\n",
       " 'where, the': 0.06666666666666667,\n",
       " 'where, s': 0.07407407407407407,\n",
       " 'where, a': 0.058823529411764705,\n",
       " 'picked, </s>': 0.16666666666666666,\n",
       " 'picked, if': 0.06666666666666667,\n",
       " 'picked, of': 0.05555555555555555,\n",
       " 'picked, <s>': 0.05555555555555555,\n",
       " 'picked, where': 0.06666666666666667,\n",
       " 'picked, picked': 0.05555555555555555,\n",
       " 'picked, peck': 0.05555555555555555,\n",
       " 'picked, piper': 0.05555555555555555,\n",
       " 'picked, peppers': 0.05555555555555555,\n",
       " 'picked, pickled': 0.05555555555555555,\n",
       " 'picked, peter': 0.05555555555555555,\n",
       " 'picked, the': 0.06666666666666667,\n",
       " 'picked, s': 0.037037037037037035,\n",
       " 'picked, a': 0.17647058823529413,\n",
       " 'peck, </s>': 0.05555555555555555,\n",
       " 'peck, if': 0.06666666666666667,\n",
       " 'peck, of': 0.2777777777777778,\n",
       " 'peck, <s>': 0.05555555555555555,\n",
       " 'peck, where': 0.06666666666666667,\n",
       " 'peck, picked': 0.05555555555555555,\n",
       " 'peck, peck': 0.05555555555555555,\n",
       " 'peck, piper': 0.05555555555555555,\n",
       " 'peck, peppers': 0.05555555555555555,\n",
       " 'peck, pickled': 0.05555555555555555,\n",
       " 'peck, peter': 0.05555555555555555,\n",
       " 'peck, the': 0.06666666666666667,\n",
       " 'peck, s': 0.037037037037037035,\n",
       " 'peck, a': 0.058823529411764705,\n",
       " 'piper, </s>': 0.05555555555555555,\n",
       " 'piper, if': 0.06666666666666667,\n",
       " 'piper, of': 0.05555555555555555,\n",
       " 'piper, <s>': 0.05555555555555555,\n",
       " 'piper, where': 0.06666666666666667,\n",
       " 'piper, picked': 0.2777777777777778,\n",
       " 'piper, peck': 0.05555555555555555,\n",
       " 'piper, piper': 0.05555555555555555,\n",
       " 'piper, peppers': 0.05555555555555555,\n",
       " 'piper, pickled': 0.05555555555555555,\n",
       " 'piper, peter': 0.05555555555555555,\n",
       " 'piper, the': 0.06666666666666667,\n",
       " 'piper, s': 0.037037037037037035,\n",
       " 'piper, a': 0.058823529411764705,\n",
       " 'peppers, </s>': 0.16666666666666666,\n",
       " 'peppers, if': 0.06666666666666667,\n",
       " 'peppers, of': 0.05555555555555555,\n",
       " 'peppers, <s>': 0.05555555555555555,\n",
       " 'peppers, where': 0.06666666666666667,\n",
       " 'peppers, picked': 0.05555555555555555,\n",
       " 'peppers, peck': 0.05555555555555555,\n",
       " 'peppers, piper': 0.05555555555555555,\n",
       " 'peppers, peppers': 0.05555555555555555,\n",
       " 'peppers, pickled': 0.05555555555555555,\n",
       " 'peppers, peter': 0.16666666666666666,\n",
       " 'peppers, the': 0.06666666666666667,\n",
       " 'peppers, s': 0.037037037037037035,\n",
       " 'peppers, a': 0.058823529411764705,\n",
       " 'pickled, </s>': 0.05555555555555555,\n",
       " 'pickled, if': 0.06666666666666667,\n",
       " 'pickled, of': 0.05555555555555555,\n",
       " 'pickled, <s>': 0.05555555555555555,\n",
       " 'pickled, where': 0.06666666666666667,\n",
       " 'pickled, picked': 0.05555555555555555,\n",
       " 'pickled, peck': 0.05555555555555555,\n",
       " 'pickled, piper': 0.05555555555555555,\n",
       " 'pickled, peppers': 0.2777777777777778,\n",
       " 'pickled, pickled': 0.05555555555555555,\n",
       " 'pickled, peter': 0.05555555555555555,\n",
       " 'pickled, the': 0.06666666666666667,\n",
       " 'pickled, s': 0.037037037037037035,\n",
       " 'pickled, a': 0.058823529411764705,\n",
       " 'peter, </s>': 0.05555555555555555,\n",
       " 'peter, if': 0.06666666666666667,\n",
       " 'peter, of': 0.05555555555555555,\n",
       " 'peter, <s>': 0.05555555555555555,\n",
       " 'peter, where': 0.06666666666666667,\n",
       " 'peter, picked': 0.05555555555555555,\n",
       " 'peter, peck': 0.05555555555555555,\n",
       " 'peter, piper': 0.2777777777777778,\n",
       " 'peter, peppers': 0.05555555555555555,\n",
       " 'peter, pickled': 0.05555555555555555,\n",
       " 'peter, peter': 0.05555555555555555,\n",
       " 'peter, the': 0.06666666666666667,\n",
       " 'peter, s': 0.037037037037037035,\n",
       " 'peter, a': 0.058823529411764705,\n",
       " 'the, </s>': 0.05555555555555555,\n",
       " 'the, if': 0.06666666666666667,\n",
       " 'the, of': 0.05555555555555555,\n",
       " 'the, <s>': 0.05555555555555555,\n",
       " 'the, where': 0.06666666666666667,\n",
       " 'the, picked': 0.05555555555555555,\n",
       " 'the, peck': 0.1111111111111111,\n",
       " 'the, piper': 0.05555555555555555,\n",
       " 'the, peppers': 0.05555555555555555,\n",
       " 'the, pickled': 0.05555555555555555,\n",
       " 'the, peter': 0.05555555555555555,\n",
       " 'the, the': 0.06666666666666667,\n",
       " 'the, s': 0.037037037037037035,\n",
       " 'the, a': 0.058823529411764705,\n",
       " 's, </s>': 0.05555555555555555,\n",
       " 's, if': 0.06666666666666667,\n",
       " 's, of': 0.05555555555555555,\n",
       " 's, <s>': 0.05555555555555555,\n",
       " 's, where': 0.06666666666666667,\n",
       " 's, picked': 0.05555555555555555,\n",
       " 's, peck': 0.05555555555555555,\n",
       " 's, piper': 0.05555555555555555,\n",
       " 's, peppers': 0.05555555555555555,\n",
       " 's, pickled': 0.05555555555555555,\n",
       " 's, peter': 0.05555555555555555,\n",
       " 's, the': 0.13333333333333333,\n",
       " 's, s': 0.037037037037037035,\n",
       " 's, a': 0.058823529411764705,\n",
       " 'a, </s>': 0.05555555555555555,\n",
       " 'a, if': 0.06666666666666667,\n",
       " 'a, of': 0.05555555555555555,\n",
       " 'a, <s>': 0.05555555555555555,\n",
       " 'a, where': 0.06666666666666667,\n",
       " 'a, picked': 0.05555555555555555,\n",
       " 'a, peck': 0.2222222222222222,\n",
       " 'a, piper': 0.05555555555555555,\n",
       " 'a, peppers': 0.05555555555555555,\n",
       " 'a, pickled': 0.05555555555555555,\n",
       " 'a, peter': 0.05555555555555555,\n",
       " 'a, the': 0.06666666666666667,\n",
       " 'a, s': 0.037037037037037035,\n",
       " 'a, a': 0.058823529411764705}"
      ]
     },
     "execution_count": 19,
     "metadata": {},
     "output_type": "execute_result"
    }
   ],
   "source": [
    "lap_bigram_prob  #laplace_smoothed bigrams probability"
   ]
  },
  {
   "cell_type": "code",
   "execution_count": 57,
   "metadata": {},
   "outputs": [
    {
     "data": {
      "text/plain": [
       "0.05555555555555555"
      ]
     },
     "execution_count": 57,
     "metadata": {},
     "output_type": "execute_result"
    }
   ],
   "source": [
    "lap_bigram_prob['peter, <s>']  #example of an unseen bigram probability"
   ]
  },
  {
   "cell_type": "markdown",
   "metadata": {},
   "source": [
    "<html>\n",
    "    <body>\n",
    "        <h2> Qustion 7</h2>\n",
    "        <p style= \"font-size:18px\"> \"Count of Counts table of all biagrams\" </p>  \n",
    "    </body>\n",
    "</html>"
   ]
  },
  {
   "cell_type": "code",
   "execution_count": 58,
   "metadata": {},
   "outputs": [],
   "source": [
    "matrix = np.zeros((len(vocabulary),len(vocabulary)))    #matrix of shape length of vocabulary (14,14)\n",
    "for i in range(len(vocab)):\n",
    "    for j in range(len(vocab)):\n",
    "        bi = tuple([vocab[i],vocab[j]])\n",
    "        count = bigrams.count(bi)\n",
    "        matrix[i][j] = count"
   ]
  },
  {
   "cell_type": "code",
   "execution_count": 59,
   "metadata": {},
   "outputs": [
    {
     "data": {
      "text/plain": [
       "array([[0., 0., 0., 3., 0., 0., 0., 0., 0., 0., 0., 0., 0., 0.],\n",
       "       [0., 0., 0., 0., 0., 0., 0., 0., 0., 0., 1., 0., 0., 0.],\n",
       "       [0., 0., 0., 0., 0., 0., 0., 0., 0., 4., 0., 0., 0., 0.],\n",
       "       [0., 1., 0., 0., 1., 0., 0., 0., 0., 0., 1., 0., 0., 1.],\n",
       "       [0., 0., 0., 0., 0., 0., 0., 0., 0., 0., 0., 0., 1., 0.],\n",
       "       [2., 0., 0., 0., 0., 0., 0., 0., 0., 0., 0., 0., 0., 2.],\n",
       "       [0., 0., 4., 0., 0., 0., 0., 0., 0., 0., 0., 0., 0., 0.],\n",
       "       [0., 0., 0., 0., 0., 4., 0., 0., 0., 0., 0., 0., 0., 0.],\n",
       "       [2., 0., 0., 0., 0., 0., 0., 0., 0., 0., 2., 0., 0., 0.],\n",
       "       [0., 0., 0., 0., 0., 0., 0., 0., 4., 0., 0., 0., 0., 0.],\n",
       "       [0., 0., 0., 0., 0., 0., 0., 4., 0., 0., 0., 0., 0., 0.],\n",
       "       [0., 0., 0., 0., 0., 0., 1., 0., 0., 0., 0., 0., 0., 0.],\n",
       "       [0., 0., 0., 0., 0., 0., 0., 0., 0., 0., 0., 1., 0., 0.],\n",
       "       [0., 0., 0., 0., 0., 0., 3., 0., 0., 0., 0., 0., 0., 0.]])"
      ]
     },
     "execution_count": 59,
     "metadata": {},
     "output_type": "execute_result"
    }
   ],
   "source": [
    "matrix"
   ]
  },
  {
   "cell_type": "markdown",
   "metadata": {},
   "source": [
    "<html>\n",
    "    <body>\n",
    "        <h2> Qustion 9</h2>\n",
    "        <h3> Probability of given sentence using MLE method</h3>\n",
    "        <p style= \"font-size:18px\"> \"peter piper picked a pickled pepper\" </p>\n",
    "    </body>\n",
    "</html>"
   ]
  },
  {
   "cell_type": "code",
   "execution_count": 37,
   "metadata": {},
   "outputs": [],
   "source": [
    "sen = \"<s> peter piper picked a pickled pepper </s>\"\n",
    "index={}\n",
    "for i,j in temp.items():\n",
    "    index[j] = i"
   ]
  },
  {
   "cell_type": "code",
   "execution_count": 43,
   "metadata": {},
   "outputs": [
    {
     "name": "stdout",
     "output_type": "stream",
     "text": [
      "Prob is zero\n"
     ]
    },
    {
     "name": "stderr",
     "output_type": "stream",
     "text": [
      "c:\\users\\arman\\appdata\\local\\programs\\python\\python37-32\\lib\\site-packages\\ipykernel_launcher.py:8: RuntimeWarning: divide by zero encountered in log\n",
      "  \n"
     ]
    }
   ],
   "source": [
    "prob = 0\n",
    "try:\n",
    "    for i in range(len(sen.split())-1):\n",
    "        bigram = [sen.split()[i],sen.split()[i+1]]\n",
    "        t1 = index[bigram[0]]\n",
    "        t2 = index[bigram[1]]\n",
    "        p = matrix[t1][t2]\n",
    "        prob = prob + np.log(p)\n",
    "except:\n",
    "    print(\"Prob is zero\")"
   ]
  },
  {
   "cell_type": "markdown",
   "metadata": {},
   "source": [
    "<html>\n",
    "    <body>\n",
    "        <h2> Qustion 9</h2>\n",
    "        <h3> Probability of given sentence using Laplace Smoothing method</h3>\n",
    "        <p style= \"font-size:18px\"> \"peter piper picked a pickled pepper\" </p>\n",
    "    </body>\n",
    "</html>"
   ]
  },
  {
   "cell_type": "code",
   "execution_count": 55,
   "metadata": {},
   "outputs": [],
   "source": [
    "prob = 0\n",
    "for i in range(len(sen.split())-1):\n",
    "    bigram = [sen.split()[i],sen.split()[i+1]]\n",
    "    try:\n",
    "        t1 = index[bigram[0]]\n",
    "        t2 = index[bigram[1]]\n",
    "        p = laplace_matrix[t1][t2]\n",
    "    except:\n",
    "        p = 1 \n",
    "    prob = prob + np.log(p)"
   ]
  },
  {
   "cell_type": "code",
   "execution_count": 56,
   "metadata": {},
   "outputs": [
    {
     "data": {
      "text/plain": [
       "8.405282551978263e-05"
      ]
     },
     "execution_count": 56,
     "metadata": {},
     "output_type": "execute_result"
    }
   ],
   "source": [
    "np.exp(prob) #probability of sentence using laplace smoothing"
   ]
  },
  {
   "cell_type": "code",
   "execution_count": null,
   "metadata": {},
   "outputs": [],
   "source": []
  }
 ],
 "metadata": {
  "kernelspec": {
   "display_name": "Python 3",
   "language": "python",
   "name": "python3"
  },
  "language_info": {
   "codemirror_mode": {
    "name": "ipython",
    "version": 3
   },
   "file_extension": ".py",
   "mimetype": "text/x-python",
   "name": "python",
   "nbconvert_exporter": "python",
   "pygments_lexer": "ipython3",
   "version": "3.7.3"
  }
 },
 "nbformat": 4,
 "nbformat_minor": 4
}
